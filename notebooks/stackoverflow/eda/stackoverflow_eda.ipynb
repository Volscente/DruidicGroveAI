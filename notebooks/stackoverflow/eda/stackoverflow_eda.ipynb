{
 "cells": [
  {
   "metadata": {},
   "cell_type": "markdown",
   "source": [
    "# StackOverflow - Exploratory Data Analysis\n",
    "\n",
    "Perform an Exploratory Data Analysis over the data included in the BigQuery dataset `bigquery-public-data.stackoverflow`, in order to uncover interesting patterns and potential use cases within the data."
   ],
   "id": "ecef3ae2dca76000"
  },
  {
   "metadata": {},
   "cell_type": "markdown",
   "source": "# Setup Notebook",
   "id": "250d06b1a11b0342"
  },
  {
   "metadata": {},
   "cell_type": "markdown",
   "source": "## Imports",
   "id": "2f0debe70110f86a"
  },
  {
   "cell_type": "code",
   "id": "initial_id",
   "metadata": {
    "collapsed": true,
    "ExecuteTime": {
     "end_time": "2024-10-30T14:32:45.102900Z",
     "start_time": "2024-10-30T14:32:45.098829Z"
    }
   },
   "source": [
    "# Import Standard Libraries\n",
    "import os\n",
    "from pathlib import Path\n",
    "from dynaconf import Dynaconf\n",
    "\n",
    "# Import Package Modules\n",
    "from src.bigquery_connector.bigquery_connector import BigQueryConnector\n",
    "from src.types import BigQueryClientConfig"
   ],
   "outputs": [],
   "execution_count": 23
  },
  {
   "metadata": {},
   "cell_type": "markdown",
   "source": "## Define Configurations",
   "id": "e6d9b9ccfac4d59e"
  },
  {
   "metadata": {
    "ExecuteTime": {
     "end_time": "2024-10-30T14:02:49.803693Z",
     "start_time": "2024-10-30T14:02:49.799425Z"
    }
   },
   "cell_type": "code",
   "source": [
    "# Setup root path\n",
    "root_path = Path(os.getcwd()).parents[2]"
   ],
   "id": "5876b8ceff2800a1",
   "outputs": [],
   "execution_count": 19
  },
  {
   "metadata": {
    "ExecuteTime": {
     "end_time": "2024-10-30T14:02:50.003495Z",
     "start_time": "2024-10-30T14:02:49.996834Z"
    }
   },
   "cell_type": "code",
   "source": [
    "# Read configuration\n",
    "config = Dynaconf(\n",
    "    settings_files=[\n",
    "        root_path / 'configuration' / 'settings.toml'\n",
    "    ],\n",
    "    environments=True, \n",
    "    env='eda'\n",
    ")"
   ],
   "id": "ec9c14356c291932",
   "outputs": [],
   "execution_count": 20
  },
  {
   "metadata": {
    "ExecuteTime": {
     "end_time": "2024-10-30T14:02:50.283795Z",
     "start_time": "2024-10-30T14:02:50.273934Z"
    }
   },
   "cell_type": "code",
   "source": [
    "# Retrieve configurations\n",
    "bigquery_client_config = config['bigquery_client']\n",
    "relevant_users_config = config['relevant_users']"
   ],
   "id": "e499f1dc6fcb54c6",
   "outputs": [],
   "execution_count": 21
  },
  {
   "metadata": {},
   "cell_type": "markdown",
   "source": "# Read Data",
   "id": "2fe6aa01f18d7190"
  },
  {
   "metadata": {
    "ExecuteTime": {
     "end_time": "2024-10-30T14:32:59.939224Z",
     "start_time": "2024-10-30T14:32:57.876975Z"
    }
   },
   "cell_type": "code",
   "source": [
    "# Instance BigQuery Connector\n",
    "bigquery_connector = BigQueryConnector(BigQueryClientConfig(**bigquery_client_config))"
   ],
   "id": "95ff7bb7cb9c0718",
   "outputs": [
    {
     "name": "stdout",
     "output_type": "stream",
     "text": [
      "[10/30/2024 15:32:57 - BigQueryConnector] INFO - _set_client - Set the BigQuery client\n"
     ]
    }
   ],
   "execution_count": 24
  },
  {
   "metadata": {
    "ExecuteTime": {
     "end_time": "2024-10-30T14:40:04.456650Z",
     "start_time": "2024-10-30T14:40:04.402835Z"
    }
   },
   "cell_type": "code",
   "source": [
    "# Read data from BigQuery\n",
    "relvant_users = bigquery_connector.read_from_query_config(relevant_users_config)"
   ],
   "id": "5f5285c3aac0238c",
   "outputs": [
    {
     "name": "stdout",
     "output_type": "stream",
     "text": [
      "[10/30/2024 15:40:04 - BigQueryConnector] INFO - read_from_query_config - Reading query file: queries/stackoverflow/eda/users/relevant_users.sql\n"
     ]
    },
    {
     "ename": "FileNotFoundError",
     "evalue": "Unable to locate file: queries/stackoverflow/eda/users/relevant_users.sql",
     "output_type": "error",
     "traceback": [
      "\u001B[0;31m---------------------------------------------------------------------------\u001B[0m",
      "\u001B[0;31mFileNotFoundError\u001B[0m                         Traceback (most recent call last)",
      "Cell \u001B[0;32mIn[26], line 2\u001B[0m\n\u001B[1;32m      1\u001B[0m \u001B[38;5;66;03m# Read data from BigQuery\u001B[39;00m\n\u001B[0;32m----> 2\u001B[0m relvant_users \u001B[38;5;241m=\u001B[39m \u001B[43mbigquery_connector\u001B[49m\u001B[38;5;241;43m.\u001B[39;49m\u001B[43mread_from_query_config\u001B[49m\u001B[43m(\u001B[49m\u001B[43mrelevant_users_config\u001B[49m\u001B[43m)\u001B[49m\n",
      "File \u001B[0;32m~/Projects/DruidicGroveAI/src/bigquery_connector/bigquery_connector.py:141\u001B[0m, in \u001B[0;36mBigQueryConnector.read_from_query_config\u001B[0;34m(self, query_config)\u001B[0m\n\u001B[1;32m    137\u001B[0m \u001B[38;5;28mself\u001B[39m\u001B[38;5;241m.\u001B[39mlogger\u001B[38;5;241m.\u001B[39minfo(\u001B[38;5;124m'\u001B[39m\u001B[38;5;124mread_from_query_config - Reading query file: \u001B[39m\u001B[38;5;132;01m%s\u001B[39;00m\u001B[38;5;124m'\u001B[39m,\n\u001B[1;32m    138\u001B[0m                  query_path\u001B[38;5;241m.\u001B[39mas_posix())\n\u001B[1;32m    140\u001B[0m \u001B[38;5;66;03m# Read query\u001B[39;00m\n\u001B[0;32m--> 141\u001B[0m query \u001B[38;5;241m=\u001B[39m \u001B[43mread_file_from_path\u001B[49m\u001B[43m(\u001B[49m\u001B[43mquery_path\u001B[49m\u001B[43m)\u001B[49m\n\u001B[1;32m    143\u001B[0m \u001B[38;5;66;03m# Check if there are parameters\u001B[39;00m\n\u001B[1;32m    144\u001B[0m \u001B[38;5;28;01mif\u001B[39;00m \u001B[38;5;124m'\u001B[39m\u001B[38;5;124mquery_parameters\u001B[39m\u001B[38;5;124m'\u001B[39m \u001B[38;5;129;01mnot\u001B[39;00m \u001B[38;5;129;01min\u001B[39;00m query_config\u001B[38;5;241m.\u001B[39mkeys():\n",
      "File \u001B[0;32m~/Projects/DruidicGroveAI/src/general_utils/general_utils.py:42\u001B[0m, in \u001B[0;36mread_file_from_path\u001B[0;34m(file_path)\u001B[0m\n\u001B[1;32m     40\u001B[0m         file_read \u001B[38;5;241m=\u001B[39m file\u001B[38;5;241m.\u001B[39mread()\n\u001B[1;32m     41\u001B[0m \u001B[38;5;28;01melse\u001B[39;00m:\n\u001B[0;32m---> 42\u001B[0m     \u001B[38;5;28;01mraise\u001B[39;00m \u001B[38;5;167;01mFileNotFoundError\u001B[39;00m(\u001B[38;5;124mf\u001B[39m\u001B[38;5;124m'\u001B[39m\u001B[38;5;124mUnable to locate file: \u001B[39m\u001B[38;5;132;01m{\u001B[39;00mfile_path\u001B[38;5;241m.\u001B[39mas_posix()\u001B[38;5;132;01m}\u001B[39;00m\u001B[38;5;124m'\u001B[39m)\n\u001B[1;32m     44\u001B[0m logger\u001B[38;5;241m.\u001B[39minfo(\u001B[38;5;124m'\u001B[39m\u001B[38;5;124mread_file_from_path - Successfully file read from \u001B[39m\u001B[38;5;132;01m%s\u001B[39;00m\u001B[38;5;124m'\u001B[39m, file_path\u001B[38;5;241m.\u001B[39mas_posix())\n\u001B[1;32m     46\u001B[0m logger\u001B[38;5;241m.\u001B[39mdebug(\u001B[38;5;124m'\u001B[39m\u001B[38;5;124mread_file_from_path - End\u001B[39m\u001B[38;5;124m'\u001B[39m)\n",
      "\u001B[0;31mFileNotFoundError\u001B[0m: Unable to locate file: queries/stackoverflow/eda/users/relevant_users.sql"
     ]
    }
   ],
   "execution_count": 26
  },
  {
   "metadata": {},
   "cell_type": "code",
   "outputs": [],
   "execution_count": null,
   "source": "",
   "id": "27a7da95a9ba8827"
  }
 ],
 "metadata": {
  "kernelspec": {
   "display_name": "druidicgroveai",
   "language": "python",
   "name": "druidicgroveai"
  },
  "language_info": {
   "codemirror_mode": {
    "name": "ipython",
    "version": 2
   },
   "file_extension": ".py",
   "mimetype": "text/x-python",
   "name": "python",
   "nbconvert_exporter": "python",
   "pygments_lexer": "ipython2",
   "version": "2.7.6"
  }
 },
 "nbformat": 4,
 "nbformat_minor": 5
}
