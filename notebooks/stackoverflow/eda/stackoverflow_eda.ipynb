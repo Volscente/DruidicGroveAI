{
 "cells": [
  {
   "metadata": {},
   "cell_type": "markdown",
   "source": [
    "# StackOverflow - Exploratory Data Analysis\n",
    "\n",
    "Perform an Exploratory Data Analysis over the data included in the BigQuery dataset `bigquery-public-data.stackoverflow`, in order to uncover interesting patterns and potential use cases within the data."
   ],
   "id": "ecef3ae2dca76000"
  },
  {
   "metadata": {},
   "cell_type": "markdown",
   "source": "# Setup Notebook",
   "id": "250d06b1a11b0342"
  },
  {
   "metadata": {},
   "cell_type": "markdown",
   "source": "## Imports",
   "id": "2f0debe70110f86a"
  },
  {
   "cell_type": "code",
   "id": "initial_id",
   "metadata": {
    "collapsed": true,
    "ExecuteTime": {
     "end_time": "2024-10-30T19:32:23.726334Z",
     "start_time": "2024-10-30T19:32:22.644917Z"
    }
   },
   "source": [
    "# Import Standard Libraries\n",
    "import os\n",
    "from pathlib import Path\n",
    "from dynaconf import Dynaconf\n",
    "\n",
    "# Import Package Modules\n",
    "from src.bigquery_connector.bigquery_connector import BigQueryConnector\n",
    "from src.types import BigQueryClientConfig"
   ],
   "outputs": [],
   "execution_count": 1
  },
  {
   "metadata": {},
   "cell_type": "markdown",
   "source": "## Define Configurations",
   "id": "e6d9b9ccfac4d59e"
  },
  {
   "metadata": {
    "ExecuteTime": {
     "end_time": "2024-10-30T19:32:23.732640Z",
     "start_time": "2024-10-30T19:32:23.728736Z"
    }
   },
   "cell_type": "code",
   "source": [
    "# Setup root path\n",
    "root_path = Path(os.getcwd()).parents[2]"
   ],
   "id": "5876b8ceff2800a1",
   "outputs": [],
   "execution_count": 2
  },
  {
   "metadata": {
    "ExecuteTime": {
     "end_time": "2024-10-30T19:32:23.739808Z",
     "start_time": "2024-10-30T19:32:23.734868Z"
    }
   },
   "cell_type": "code",
   "source": [
    "# Read configuration\n",
    "config = Dynaconf(\n",
    "    settings_files=[\n",
    "        root_path / 'configuration' / 'settings.toml'\n",
    "    ],\n",
    "    environments=True, \n",
    "    env='eda'\n",
    ")"
   ],
   "id": "ec9c14356c291932",
   "outputs": [],
   "execution_count": 3
  },
  {
   "metadata": {
    "ExecuteTime": {
     "end_time": "2024-10-30T19:32:23.777889Z",
     "start_time": "2024-10-30T19:32:23.744596Z"
    }
   },
   "cell_type": "code",
   "source": [
    "# Retrieve configurations\n",
    "bigquery_client_config = config['bigquery_client']\n",
    "relevant_users_config = config['relevant_users']"
   ],
   "id": "e499f1dc6fcb54c6",
   "outputs": [],
   "execution_count": 4
  },
  {
   "metadata": {},
   "cell_type": "markdown",
   "source": "# Read Data",
   "id": "2fe6aa01f18d7190"
  },
  {
   "metadata": {
    "ExecuteTime": {
     "end_time": "2024-10-30T19:32:24.811789Z",
     "start_time": "2024-10-30T19:32:23.781415Z"
    }
   },
   "cell_type": "code",
   "source": [
    "# Instance BigQuery Connector\n",
    "bigquery_connector = BigQueryConnector(BigQueryClientConfig(**bigquery_client_config))"
   ],
   "id": "95ff7bb7cb9c0718",
   "outputs": [
    {
     "name": "stdout",
     "output_type": "stream",
     "text": [
      "[10/30/2024 20:32:23 - BigQueryConnector] INFO - _set_client - Set the BigQuery client\n"
     ]
    }
   ],
   "execution_count": 5
  },
  {
   "metadata": {
    "ExecuteTime": {
     "end_time": "2024-10-30T19:32:49.965953Z",
     "start_time": "2024-10-30T19:32:24.813584Z"
    }
   },
   "cell_type": "code",
   "source": [
    "# Read data from BigQuery\n",
    "relevant_users = bigquery_connector.read_from_query_config(relevant_users_config)"
   ],
   "id": "5f5285c3aac0238c",
   "outputs": [
    {
     "name": "stdout",
     "output_type": "stream",
     "text": [
      "[10/30/2024 20:32:24 - BigQueryConnector] INFO - read_from_query_config - Reading query file: queries/stackoverflow/eda/users/relevant_users.sql\n",
      "[10/30/2024 20:32:24 - general_utils] INFO - read_file_from_path - Reading file from /Users/s.porreca/Projects/DruidicGroveAI/queries/stackoverflow/eda/users/relevant_users.sql\n",
      "[10/30/2024 20:32:24 - general_utils] INFO - read_file_from_path - Successfully file read from /Users/s.porreca/Projects/DruidicGroveAI/queries/stackoverflow/eda/users/relevant_users.sql\n",
      "[10/30/2024 20:32:24 - BigQueryConnector] INFO - build_bigquery_query_parameters_from_dictionary - Fetch BigQuery query parameters\n",
      "[10/30/2024 20:32:24 - BigQueryConnector] INFO - build_bigquery_query_parameters_from_dictionary - Successfully built BigQuery query parameters\n",
      "[10/30/2024 20:32:24 - BigQueryConnector] INFO - read_from_query_config - Querying BigQuery with Parameters\n",
      "[10/30/2024 20:32:26 - BigQueryConnector] INFO - read_from_query_config - Successfully retrieve data\n",
      "[10/30/2024 20:32:26 - BigQueryConnector] INFO - read_from_query_config - Converting data to Pandas DataFrame\n"
     ]
    },
    {
     "name": "stderr",
     "output_type": "stream",
     "text": [
      "/Users/s.porreca/Projects/DruidicGroveAI/.venv/lib/python3.12/site-packages/google/cloud/bigquery/table.py:1727: UserWarning: BigQuery Storage module not found, fetch data with the REST endpoint instead.\n",
      "  warnings.warn(\n"
     ]
    }
   ],
   "execution_count": 6
  },
  {
   "metadata": {
    "ExecuteTime": {
     "end_time": "2024-10-30T19:32:59.403488Z",
     "start_time": "2024-10-30T19:32:59.368796Z"
    }
   },
   "cell_type": "code",
   "source": "relevant_users.sample(5)",
   "id": "803261c89d27b0d2",
   "outputs": [
    {
     "data": {
      "text/plain": [
       "             id     display_name  \\\n",
       "10575  10256981        DarkCoder   \n",
       "17837  14151211     Akram Ashraf   \n",
       "32866  10821659  Zachary Perkins   \n",
       "29313  12999499           Sekoni   \n",
       "28408    973447           Daniel   \n",
       "\n",
       "                                                about_me   age  \\\n",
       "10575  <p>Hi, I am an Engineering student and I am Le...  None   \n",
       "17837                                               None  None   \n",
       "32866                                               None  None   \n",
       "29313                                               None  None   \n",
       "28408                     <p>Mango cowboy disco jock</p>  None   \n",
       "\n",
       "                         creation_date                 last_access_date  \\\n",
       "10575 2018-08-21 22:21:30.070000+00:00 2022-09-25 05:29:45.137000+00:00   \n",
       "17837 2020-08-23 07:45:50.957000+00:00 2022-09-25 05:09:15.680000+00:00   \n",
       "32866 2018-12-21 20:04:05.980000+00:00 2022-09-25 05:46:20.920000+00:00   \n",
       "29313 2020-03-03 12:27:33.670000+00:00 2022-09-25 04:02:48.267000+00:00   \n",
       "28408 2011-09-30 16:12:33.753000+00:00 2022-09-24 22:59:25.583000+00:00   \n",
       "\n",
       "                            location  reputation  up_votes  down_votes  views  \\\n",
       "10575        Rourkela, Odisha, India          43         5           0     28   \n",
       "17837                          Egypt          11         0           0     11   \n",
       "32866           San Antonio, TX, USA          91        74           0     11   \n",
       "29313                        Nigeria           1         0           0      2   \n",
       "28408  Huntsville, AL, United States        2973       546           3    167   \n",
       "\n",
       "                                       profile_image_url  \\\n",
       "10575  https://graph.facebook.com/1815251615232181/pi...   \n",
       "17837                https://i.stack.imgur.com/GcaFf.jpg   \n",
       "32866  https://www.gravatar.com/avatar/f52f3480dcd556...   \n",
       "29313                https://i.stack.imgur.com/jptZg.png   \n",
       "28408                                               None   \n",
       "\n",
       "                                  website_url  \n",
       "10575  https://akashlakra789.wixsite.com/home  \n",
       "17837                                    None  \n",
       "32866                        http://zperk.net  \n",
       "29313                                    None  \n",
       "28408                   http://heatertech.com  "
      ],
      "text/html": [
       "<div>\n",
       "<style scoped>\n",
       "    .dataframe tbody tr th:only-of-type {\n",
       "        vertical-align: middle;\n",
       "    }\n",
       "\n",
       "    .dataframe tbody tr th {\n",
       "        vertical-align: top;\n",
       "    }\n",
       "\n",
       "    .dataframe thead th {\n",
       "        text-align: right;\n",
       "    }\n",
       "</style>\n",
       "<table border=\"1\" class=\"dataframe\">\n",
       "  <thead>\n",
       "    <tr style=\"text-align: right;\">\n",
       "      <th></th>\n",
       "      <th>id</th>\n",
       "      <th>display_name</th>\n",
       "      <th>about_me</th>\n",
       "      <th>age</th>\n",
       "      <th>creation_date</th>\n",
       "      <th>last_access_date</th>\n",
       "      <th>location</th>\n",
       "      <th>reputation</th>\n",
       "      <th>up_votes</th>\n",
       "      <th>down_votes</th>\n",
       "      <th>views</th>\n",
       "      <th>profile_image_url</th>\n",
       "      <th>website_url</th>\n",
       "    </tr>\n",
       "  </thead>\n",
       "  <tbody>\n",
       "    <tr>\n",
       "      <th>10575</th>\n",
       "      <td>10256981</td>\n",
       "      <td>DarkCoder</td>\n",
       "      <td>&lt;p&gt;Hi, I am an Engineering student and I am Le...</td>\n",
       "      <td>None</td>\n",
       "      <td>2018-08-21 22:21:30.070000+00:00</td>\n",
       "      <td>2022-09-25 05:29:45.137000+00:00</td>\n",
       "      <td>Rourkela, Odisha, India</td>\n",
       "      <td>43</td>\n",
       "      <td>5</td>\n",
       "      <td>0</td>\n",
       "      <td>28</td>\n",
       "      <td>https://graph.facebook.com/1815251615232181/pi...</td>\n",
       "      <td>https://akashlakra789.wixsite.com/home</td>\n",
       "    </tr>\n",
       "    <tr>\n",
       "      <th>17837</th>\n",
       "      <td>14151211</td>\n",
       "      <td>Akram Ashraf</td>\n",
       "      <td>None</td>\n",
       "      <td>None</td>\n",
       "      <td>2020-08-23 07:45:50.957000+00:00</td>\n",
       "      <td>2022-09-25 05:09:15.680000+00:00</td>\n",
       "      <td>Egypt</td>\n",
       "      <td>11</td>\n",
       "      <td>0</td>\n",
       "      <td>0</td>\n",
       "      <td>11</td>\n",
       "      <td>https://i.stack.imgur.com/GcaFf.jpg</td>\n",
       "      <td>None</td>\n",
       "    </tr>\n",
       "    <tr>\n",
       "      <th>32866</th>\n",
       "      <td>10821659</td>\n",
       "      <td>Zachary Perkins</td>\n",
       "      <td>None</td>\n",
       "      <td>None</td>\n",
       "      <td>2018-12-21 20:04:05.980000+00:00</td>\n",
       "      <td>2022-09-25 05:46:20.920000+00:00</td>\n",
       "      <td>San Antonio, TX, USA</td>\n",
       "      <td>91</td>\n",
       "      <td>74</td>\n",
       "      <td>0</td>\n",
       "      <td>11</td>\n",
       "      <td>https://www.gravatar.com/avatar/f52f3480dcd556...</td>\n",
       "      <td>http://zperk.net</td>\n",
       "    </tr>\n",
       "    <tr>\n",
       "      <th>29313</th>\n",
       "      <td>12999499</td>\n",
       "      <td>Sekoni</td>\n",
       "      <td>None</td>\n",
       "      <td>None</td>\n",
       "      <td>2020-03-03 12:27:33.670000+00:00</td>\n",
       "      <td>2022-09-25 04:02:48.267000+00:00</td>\n",
       "      <td>Nigeria</td>\n",
       "      <td>1</td>\n",
       "      <td>0</td>\n",
       "      <td>0</td>\n",
       "      <td>2</td>\n",
       "      <td>https://i.stack.imgur.com/jptZg.png</td>\n",
       "      <td>None</td>\n",
       "    </tr>\n",
       "    <tr>\n",
       "      <th>28408</th>\n",
       "      <td>973447</td>\n",
       "      <td>Daniel</td>\n",
       "      <td>&lt;p&gt;Mango cowboy disco jock&lt;/p&gt;</td>\n",
       "      <td>None</td>\n",
       "      <td>2011-09-30 16:12:33.753000+00:00</td>\n",
       "      <td>2022-09-24 22:59:25.583000+00:00</td>\n",
       "      <td>Huntsville, AL, United States</td>\n",
       "      <td>2973</td>\n",
       "      <td>546</td>\n",
       "      <td>3</td>\n",
       "      <td>167</td>\n",
       "      <td>None</td>\n",
       "      <td>http://heatertech.com</td>\n",
       "    </tr>\n",
       "  </tbody>\n",
       "</table>\n",
       "</div>"
      ]
     },
     "execution_count": 7,
     "metadata": {},
     "output_type": "execute_result"
    }
   ],
   "execution_count": 7
  }
 ],
 "metadata": {
  "kernelspec": {
   "display_name": "druidicgroveai",
   "language": "python",
   "name": "druidicgroveai"
  },
  "language_info": {
   "codemirror_mode": {
    "name": "ipython",
    "version": 2
   },
   "file_extension": ".py",
   "mimetype": "text/x-python",
   "name": "python",
   "nbconvert_exporter": "python",
   "pygments_lexer": "ipython2",
   "version": "2.7.6"
  }
 },
 "nbformat": 4,
 "nbformat_minor": 5
}
