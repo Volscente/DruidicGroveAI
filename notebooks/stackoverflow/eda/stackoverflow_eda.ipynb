{
 "cells": [
  {
   "metadata": {},
   "cell_type": "markdown",
   "source": [
    "# StackOverflow - Exploratory Data Analysis\n",
    "\n",
    "Perform an Exploratory Data Analysis over the data included in the BigQuery dataset `bigquery-public-data.stackoverflow`, in order to uncover interesting patterns and potential use cases within the data."
   ],
   "id": "ecef3ae2dca76000"
  },
  {
   "metadata": {},
   "cell_type": "markdown",
   "source": "# Setup Notebook",
   "id": "250d06b1a11b0342"
  },
  {
   "metadata": {},
   "cell_type": "markdown",
   "source": "## Imports",
   "id": "2f0debe70110f86a"
  },
  {
   "cell_type": "code",
   "id": "initial_id",
   "metadata": {
    "collapsed": true,
    "ExecuteTime": {
     "end_time": "2024-10-30T19:37:09.992039Z",
     "start_time": "2024-10-30T19:37:08.916255Z"
    }
   },
   "source": [
    "# Import Standard Libraries\n",
    "import os\n",
    "from pathlib import Path\n",
    "from dynaconf import Dynaconf\n",
    "\n",
    "# Import Package Modules\n",
    "from src.bigquery_connector.bigquery_connector import BigQueryConnector\n",
    "from src.types import BigQueryClientConfig"
   ],
   "outputs": [],
   "execution_count": 1
  },
  {
   "metadata": {},
   "cell_type": "markdown",
   "source": "## Define Configurations",
   "id": "e6d9b9ccfac4d59e"
  },
  {
   "metadata": {
    "ExecuteTime": {
     "end_time": "2024-10-30T19:37:09.996985Z",
     "start_time": "2024-10-30T19:37:09.994094Z"
    }
   },
   "cell_type": "code",
   "source": [
    "# Setup root path\n",
    "root_path = Path(os.getcwd()).parents[2]"
   ],
   "id": "5876b8ceff2800a1",
   "outputs": [],
   "execution_count": 2
  },
  {
   "metadata": {
    "ExecuteTime": {
     "end_time": "2024-10-30T19:37:10.002817Z",
     "start_time": "2024-10-30T19:37:09.999095Z"
    }
   },
   "cell_type": "code",
   "source": [
    "# Read configuration\n",
    "config = Dynaconf(\n",
    "    settings_files=[\n",
    "        root_path / 'configuration' / 'settings.toml'\n",
    "    ],\n",
    "    environments=True, \n",
    "    env='eda'\n",
    ")"
   ],
   "id": "ec9c14356c291932",
   "outputs": [],
   "execution_count": 3
  },
  {
   "metadata": {
    "ExecuteTime": {
     "end_time": "2024-10-30T19:37:10.029667Z",
     "start_time": "2024-10-30T19:37:10.005538Z"
    }
   },
   "cell_type": "code",
   "source": [
    "# Retrieve configurations\n",
    "bigquery_client_config = config['bigquery_client']\n",
    "relevant_users_config = config['relevant_users']"
   ],
   "id": "e499f1dc6fcb54c6",
   "outputs": [],
   "execution_count": 4
  },
  {
   "metadata": {},
   "cell_type": "markdown",
   "source": "# Read Data",
   "id": "2fe6aa01f18d7190"
  },
  {
   "metadata": {
    "ExecuteTime": {
     "end_time": "2024-10-30T19:37:10.977100Z",
     "start_time": "2024-10-30T19:37:10.031965Z"
    }
   },
   "cell_type": "code",
   "source": [
    "# Instance BigQuery Connector\n",
    "bigquery_connector = BigQueryConnector(BigQueryClientConfig(**bigquery_client_config))"
   ],
   "id": "95ff7bb7cb9c0718",
   "outputs": [
    {
     "name": "stdout",
     "output_type": "stream",
     "text": [
      "[10/30/2024 20:37:10 - BigQueryConnector] INFO - _set_client - Set the BigQuery client\n"
     ]
    }
   ],
   "execution_count": 5
  },
  {
   "metadata": {
    "ExecuteTime": {
     "end_time": "2024-10-30T19:37:32.708314Z",
     "start_time": "2024-10-30T19:37:10.978903Z"
    }
   },
   "cell_type": "code",
   "source": [
    "# Read data from BigQuery\n",
    "# TODO: Add switch read_local\n",
    "relevant_users = bigquery_connector.read_from_query_config(relevant_users_config)"
   ],
   "id": "5f5285c3aac0238c",
   "outputs": [
    {
     "name": "stdout",
     "output_type": "stream",
     "text": [
      "[10/30/2024 20:37:10 - BigQueryConnector] INFO - read_from_query_config - Reading query file: queries/stackoverflow/eda/users/relevant_users.sql\n",
      "[10/30/2024 20:37:10 - general_utils] INFO - read_file_from_path - Reading file from /Users/s.porreca/Projects/DruidicGroveAI/queries/stackoverflow/eda/users/relevant_users.sql\n",
      "[10/30/2024 20:37:10 - general_utils] INFO - read_file_from_path - Successfully file read from /Users/s.porreca/Projects/DruidicGroveAI/queries/stackoverflow/eda/users/relevant_users.sql\n",
      "[10/30/2024 20:37:10 - BigQueryConnector] INFO - build_bigquery_query_parameters_from_dictionary - Fetch BigQuery query parameters\n",
      "[10/30/2024 20:37:10 - BigQueryConnector] INFO - build_bigquery_query_parameters_from_dictionary - Successfully built BigQuery query parameters\n",
      "[10/30/2024 20:37:10 - BigQueryConnector] INFO - read_from_query_config - Querying BigQuery with Parameters\n",
      "[10/30/2024 20:37:11 - BigQueryConnector] INFO - read_from_query_config - Successfully retrieve data\n",
      "[10/30/2024 20:37:11 - BigQueryConnector] INFO - read_from_query_config - Converting data to Pandas DataFrame\n"
     ]
    },
    {
     "name": "stderr",
     "output_type": "stream",
     "text": [
      "/Users/s.porreca/Projects/DruidicGroveAI/.venv/lib/python3.12/site-packages/google/cloud/bigquery/table.py:1727: UserWarning: BigQuery Storage module not found, fetch data with the REST endpoint instead.\n",
      "  warnings.warn(\n"
     ]
    }
   ],
   "execution_count": 6
  }
 ],
 "metadata": {
  "kernelspec": {
   "display_name": "druidicgroveai",
   "language": "python",
   "name": "druidicgroveai"
  },
  "language_info": {
   "codemirror_mode": {
    "name": "ipython",
    "version": 2
   },
   "file_extension": ".py",
   "mimetype": "text/x-python",
   "name": "python",
   "nbconvert_exporter": "python",
   "pygments_lexer": "ipython2",
   "version": "2.7.6"
  }
 },
 "nbformat": 4,
 "nbformat_minor": 5
}
