{
 "cells": [
  {
   "metadata": {},
   "cell_type": "markdown",
   "source": [
    "# StackOverflow - Exploratory Data Analysis\n",
    "\n",
    "Perform an Exploratory Data Analysis over the data included in the BigQuery dataset `bigquery-public-data.stackoverflow`, in order to uncover interesting patterns and potential use cases within the data."
   ],
   "id": "ecef3ae2dca76000"
  },
  {
   "metadata": {},
   "cell_type": "markdown",
   "source": "# Setup Notebook",
   "id": "250d06b1a11b0342"
  },
  {
   "metadata": {},
   "cell_type": "markdown",
   "source": "## Imports",
   "id": "2f0debe70110f86a"
  },
  {
   "cell_type": "code",
   "id": "initial_id",
   "metadata": {
    "collapsed": true,
    "ExecuteTime": {
     "end_time": "2024-11-01T14:08:42.016006Z",
     "start_time": "2024-11-01T14:08:42.012716Z"
    }
   },
   "source": [
    "# Import Standard Libraries\n",
    "import matplotlib.pyplot as plt\n",
    "import matplotlib.ticker as ticker\n",
    "import os\n",
    "import pandas as pd\n",
    "import seaborn as sns\n",
    "from colorama import Style, Fore\n",
    "from matplotlib.gridspec import GridSpec\n",
    "from pathlib import Path\n",
    "from dynaconf import Dynaconf\n",
    "\n",
    "# Import Package Modules\n",
    "from src.bigquery_connector.bigquery_connector import BigQueryConnector\n",
    "from src.types import BigQueryClientConfig"
   ],
   "outputs": [],
   "execution_count": 25
  },
  {
   "metadata": {},
   "cell_type": "markdown",
   "source": "## Setup Plot Characteristics",
   "id": "9d30030e29e24cae"
  },
  {
   "metadata": {
    "ExecuteTime": {
     "end_time": "2024-11-01T14:03:48.218032Z",
     "start_time": "2024-11-01T14:03:48.213707Z"
    }
   },
   "cell_type": "code",
   "source": [
    "# Define Seaborn theme parameters\n",
    "theme_parameters =  {\n",
    "    'axes.spines.right': False,\n",
    "    'axes.spines.top': False,\n",
    "    'grid.alpha':0.3,\n",
    "    'figure.figsize': (16, 6),\n",
    "    'font.family': 'Andale Mono',\n",
    "    'axes.titlesize': 24,\n",
    "    'figure.facecolor': '#E5E8E8',\n",
    "    'axes.facecolor': '#E5E8E8'\n",
    "}\n",
    "\n",
    "# Set the theme\n",
    "sns.set_theme(style='whitegrid',\n",
    "              palette=sns.color_palette('deep'), \n",
    "              rc=theme_parameters)"
   ],
   "id": "a615ea748bcd0a34",
   "outputs": [],
   "execution_count": 14
  },
  {
   "metadata": {
    "ExecuteTime": {
     "end_time": "2024-11-01T14:03:56.918942Z",
     "start_time": "2024-11-01T14:03:56.903778Z"
    }
   },
   "cell_type": "code",
   "source": [
    "# Define Colors\n",
    "black = Style.BRIGHT + Fore.BLACK\n",
    "magenta = Style.BRIGHT + Fore.MAGENTA\n",
    "red = Style.BRIGHT + Fore.RED\n",
    "blue = Style.BRIGHT + Fore.BLUE\n",
    "reset_colors = Style.RESET_ALL"
   ],
   "id": "5e8e7444caf9b490",
   "outputs": [],
   "execution_count": 15
  },
  {
   "metadata": {},
   "cell_type": "markdown",
   "source": "## Define Configurations",
   "id": "e6d9b9ccfac4d59e"
  },
  {
   "metadata": {
    "ExecuteTime": {
     "end_time": "2024-11-01T13:55:24.438651Z",
     "start_time": "2024-11-01T13:55:24.434846Z"
    }
   },
   "cell_type": "code",
   "source": [
    "# Setup root path\n",
    "root_path = Path(os.getcwd()).parents[2]"
   ],
   "id": "5876b8ceff2800a1",
   "outputs": [],
   "execution_count": 2
  },
  {
   "metadata": {
    "ExecuteTime": {
     "end_time": "2024-11-01T13:55:24.444118Z",
     "start_time": "2024-11-01T13:55:24.440218Z"
    }
   },
   "cell_type": "code",
   "source": [
    "# Read configuration\n",
    "config = Dynaconf(\n",
    "    settings_files=[\n",
    "        root_path / 'configuration' / 'settings.toml'\n",
    "    ],\n",
    "    environments=True, \n",
    "    env='eda'\n",
    ")"
   ],
   "id": "ec9c14356c291932",
   "outputs": [],
   "execution_count": 3
  },
  {
   "metadata": {
    "ExecuteTime": {
     "end_time": "2024-11-01T13:55:24.475522Z",
     "start_time": "2024-11-01T13:55:24.446855Z"
    }
   },
   "cell_type": "code",
   "source": [
    "# Retrieve configurations\n",
    "read_local = config['read_local']\n",
    "bigquery_client_config = config['bigquery_client']\n",
    "relevant_users_config = config['relevant_users']"
   ],
   "id": "e499f1dc6fcb54c6",
   "outputs": [],
   "execution_count": 4
  },
  {
   "metadata": {},
   "cell_type": "markdown",
   "source": "# Read Data",
   "id": "2fe6aa01f18d7190"
  },
  {
   "metadata": {
    "ExecuteTime": {
     "end_time": "2024-11-01T14:04:54.469812Z",
     "start_time": "2024-11-01T14:04:54.181203Z"
    }
   },
   "cell_type": "code",
   "source": [
    "# Switch between reading from local .CSV files or from BigQuery tables\n",
    "if read_local:\n",
    "    # Read from local .CSV files\n",
    "    relevant_users = pd.read_csv(root_path / relevant_users_config['local_path']).iloc[:, 2:] # Skip IDs columns\n",
    "else:\n",
    "    # Instance BigQuery Connector\n",
    "    bigquery_connector = BigQueryConnector(BigQueryClientConfig(**bigquery_client_config))\n",
    "    \n",
    "    # Read data from BigQuery\n",
    "    relevant_users = bigquery_connector.read_from_query_config(relevant_users_config)"
   ],
   "id": "5f5285c3aac0238c",
   "outputs": [],
   "execution_count": 17
  },
  {
   "metadata": {},
   "cell_type": "markdown",
   "source": "# Exploratory Data Analysis",
   "id": "c9be296380e49235"
  },
  {
   "metadata": {},
   "cell_type": "markdown",
   "source": "## Relevant Users",
   "id": "b6f30f18a1c2d5d2"
  },
  {
   "metadata": {},
   "cell_type": "markdown",
   "source": "### General",
   "id": "df5d3431eaa98af2"
  },
  {
   "metadata": {
    "ExecuteTime": {
     "end_time": "2024-11-01T14:04:56.061677Z",
     "start_time": "2024-11-01T14:04:56.040749Z"
    }
   },
   "cell_type": "code",
   "source": "relevant_users.info()",
   "id": "1f805ce70f9d8f3",
   "outputs": [
    {
     "name": "stdout",
     "output_type": "stream",
     "text": [
      "<class 'pandas.core.frame.DataFrame'>\n",
      "RangeIndex: 33517 entries, 0 to 33516\n",
      "Data columns (total 12 columns):\n",
      " #   Column             Non-Null Count  Dtype  \n",
      "---  ------             --------------  -----  \n",
      " 0   display_name       33514 non-null  object \n",
      " 1   about_me           16121 non-null  object \n",
      " 2   age                0 non-null      float64\n",
      " 3   creation_date      33517 non-null  object \n",
      " 4   last_access_date   33517 non-null  object \n",
      " 5   location           33506 non-null  object \n",
      " 6   reputation         33517 non-null  int64  \n",
      " 7   up_votes           33517 non-null  int64  \n",
      " 8   down_votes         33517 non-null  int64  \n",
      " 9   views              33517 non-null  int64  \n",
      " 10  profile_image_url  25984 non-null  object \n",
      " 11  website_url        10809 non-null  object \n",
      "dtypes: float64(1), int64(4), object(7)\n",
      "memory usage: 3.1+ MB\n"
     ]
    }
   ],
   "execution_count": 18
  },
  {
   "metadata": {
    "ExecuteTime": {
     "end_time": "2024-11-01T14:05:00.411687Z",
     "start_time": "2024-11-01T14:05:00.393839Z"
    }
   },
   "cell_type": "code",
   "source": "relevant_users.sample(5)",
   "id": "27ad333695d4f401",
   "outputs": [
    {
     "data": {
      "text/plain": [
       "         display_name                                           about_me  age  \\\n",
       "4903     Chris Gerken  <p>Software Engineer specializing in scalable ...  NaN   \n",
       "27608  Aquib Vadsaria  <p>I am a Technophile, love to explore and lea...  NaN   \n",
       "1954     Eric Chagnon                                                NaN  NaN   \n",
       "26554         uingtea                         <p>programming for fun</p>  NaN   \n",
       "26995             Zag                                                NaN  NaN   \n",
       "\n",
       "                          creation_date                  last_access_date  \\\n",
       "4903   2012-06-07 17:39:53.430000+00:00         2022-09-25 05:43:26+00:00   \n",
       "27608  2014-12-02 19:01:20.500000+00:00  2022-09-25 00:00:32.523000+00:00   \n",
       "1954   2018-09-25 13:44:48.243000+00:00  2022-09-24 21:54:49.013000+00:00   \n",
       "26554  2014-09-26 07:13:34.997000+00:00  2022-09-25 01:56:24.760000+00:00   \n",
       "26995  2018-05-13 19:50:44.423000+00:00  2022-09-24 23:31:01.140000+00:00   \n",
       "\n",
       "                                 location  reputation  up_votes  down_votes  \\\n",
       "4903               Amsterdam, Netherlands       16103      2524         125   \n",
       "27608                              Mumbai         350        40           0   \n",
       "1954             Washington D.C., DC, USA          41         2           0   \n",
       "26554  Tasikmalaya, Jawa Barat, Indonesia        5248        97          35   \n",
       "26995                         New Zealand           1         0           0   \n",
       "\n",
       "       views                                  profile_image_url  \\\n",
       "4903    2375                                                NaN   \n",
       "27608     36      https://i.stack.imgur.com/uyvtf.jpg?s=128&g=1   \n",
       "1954       6  https://www.gravatar.com/avatar/fb3de51c139d34...   \n",
       "26554    211      https://i.stack.imgur.com/ojDhy.png?s=128&g=1   \n",
       "26995      0  https://www.gravatar.com/avatar/dbaee1a6234e31...   \n",
       "\n",
       "                     website_url  \n",
       "4903     http://www.gerkenip.com  \n",
       "27608  https://aquibvadsaria.dev  \n",
       "1954                         NaN  \n",
       "26554                        NaN  \n",
       "26995                        NaN  "
      ],
      "text/html": [
       "<div>\n",
       "<style scoped>\n",
       "    .dataframe tbody tr th:only-of-type {\n",
       "        vertical-align: middle;\n",
       "    }\n",
       "\n",
       "    .dataframe tbody tr th {\n",
       "        vertical-align: top;\n",
       "    }\n",
       "\n",
       "    .dataframe thead th {\n",
       "        text-align: right;\n",
       "    }\n",
       "</style>\n",
       "<table border=\"1\" class=\"dataframe\">\n",
       "  <thead>\n",
       "    <tr style=\"text-align: right;\">\n",
       "      <th></th>\n",
       "      <th>display_name</th>\n",
       "      <th>about_me</th>\n",
       "      <th>age</th>\n",
       "      <th>creation_date</th>\n",
       "      <th>last_access_date</th>\n",
       "      <th>location</th>\n",
       "      <th>reputation</th>\n",
       "      <th>up_votes</th>\n",
       "      <th>down_votes</th>\n",
       "      <th>views</th>\n",
       "      <th>profile_image_url</th>\n",
       "      <th>website_url</th>\n",
       "    </tr>\n",
       "  </thead>\n",
       "  <tbody>\n",
       "    <tr>\n",
       "      <th>4903</th>\n",
       "      <td>Chris Gerken</td>\n",
       "      <td>&lt;p&gt;Software Engineer specializing in scalable ...</td>\n",
       "      <td>NaN</td>\n",
       "      <td>2012-06-07 17:39:53.430000+00:00</td>\n",
       "      <td>2022-09-25 05:43:26+00:00</td>\n",
       "      <td>Amsterdam, Netherlands</td>\n",
       "      <td>16103</td>\n",
       "      <td>2524</td>\n",
       "      <td>125</td>\n",
       "      <td>2375</td>\n",
       "      <td>NaN</td>\n",
       "      <td>http://www.gerkenip.com</td>\n",
       "    </tr>\n",
       "    <tr>\n",
       "      <th>27608</th>\n",
       "      <td>Aquib Vadsaria</td>\n",
       "      <td>&lt;p&gt;I am a Technophile, love to explore and lea...</td>\n",
       "      <td>NaN</td>\n",
       "      <td>2014-12-02 19:01:20.500000+00:00</td>\n",
       "      <td>2022-09-25 00:00:32.523000+00:00</td>\n",
       "      <td>Mumbai</td>\n",
       "      <td>350</td>\n",
       "      <td>40</td>\n",
       "      <td>0</td>\n",
       "      <td>36</td>\n",
       "      <td>https://i.stack.imgur.com/uyvtf.jpg?s=128&amp;g=1</td>\n",
       "      <td>https://aquibvadsaria.dev</td>\n",
       "    </tr>\n",
       "    <tr>\n",
       "      <th>1954</th>\n",
       "      <td>Eric Chagnon</td>\n",
       "      <td>NaN</td>\n",
       "      <td>NaN</td>\n",
       "      <td>2018-09-25 13:44:48.243000+00:00</td>\n",
       "      <td>2022-09-24 21:54:49.013000+00:00</td>\n",
       "      <td>Washington D.C., DC, USA</td>\n",
       "      <td>41</td>\n",
       "      <td>2</td>\n",
       "      <td>0</td>\n",
       "      <td>6</td>\n",
       "      <td>https://www.gravatar.com/avatar/fb3de51c139d34...</td>\n",
       "      <td>NaN</td>\n",
       "    </tr>\n",
       "    <tr>\n",
       "      <th>26554</th>\n",
       "      <td>uingtea</td>\n",
       "      <td>&lt;p&gt;programming for fun&lt;/p&gt;</td>\n",
       "      <td>NaN</td>\n",
       "      <td>2014-09-26 07:13:34.997000+00:00</td>\n",
       "      <td>2022-09-25 01:56:24.760000+00:00</td>\n",
       "      <td>Tasikmalaya, Jawa Barat, Indonesia</td>\n",
       "      <td>5248</td>\n",
       "      <td>97</td>\n",
       "      <td>35</td>\n",
       "      <td>211</td>\n",
       "      <td>https://i.stack.imgur.com/ojDhy.png?s=128&amp;g=1</td>\n",
       "      <td>NaN</td>\n",
       "    </tr>\n",
       "    <tr>\n",
       "      <th>26995</th>\n",
       "      <td>Zag</td>\n",
       "      <td>NaN</td>\n",
       "      <td>NaN</td>\n",
       "      <td>2018-05-13 19:50:44.423000+00:00</td>\n",
       "      <td>2022-09-24 23:31:01.140000+00:00</td>\n",
       "      <td>New Zealand</td>\n",
       "      <td>1</td>\n",
       "      <td>0</td>\n",
       "      <td>0</td>\n",
       "      <td>0</td>\n",
       "      <td>https://www.gravatar.com/avatar/dbaee1a6234e31...</td>\n",
       "      <td>NaN</td>\n",
       "    </tr>\n",
       "  </tbody>\n",
       "</table>\n",
       "</div>"
      ]
     },
     "execution_count": 19,
     "metadata": {},
     "output_type": "execute_result"
    }
   ],
   "execution_count": 19
  },
  {
   "metadata": {
    "ExecuteTime": {
     "end_time": "2024-11-01T14:05:20.515656Z",
     "start_time": "2024-11-01T14:05:20.510710Z"
    }
   },
   "cell_type": "code",
   "source": [
    "# Print shapes information\n",
    "print(f'{blue}Data Shapes:'\n",
    "      f'{blue}\\n- All Data -> {red}{relevant_users.shape}\\n')"
   ],
   "id": "36f0e989525f5077",
   "outputs": [
    {
     "name": "stdout",
     "output_type": "stream",
     "text": [
      "\u001B[1m\u001B[34mData Shapes:\u001B[1m\u001B[34m\n",
      "- All Data -> \u001B[1m\u001B[31m(33517, 12)\n",
      "\n"
     ]
    }
   ],
   "execution_count": 20
  },
  {
   "metadata": {
    "ExecuteTime": {
     "end_time": "2024-11-01T14:05:37.699198Z",
     "start_time": "2024-11-01T14:05:37.683292Z"
    }
   },
   "cell_type": "code",
   "source": [
    "# Print null values information\n",
    "print(f'{blue}Data Columns with Null Values:'\n",
    "      f'{blue}\\n- All Data -> {red}{relevant_users.isnull().any().sum()}\\n')"
   ],
   "id": "c972b0d8cc801b46",
   "outputs": [
    {
     "name": "stdout",
     "output_type": "stream",
     "text": [
      "\u001B[1m\u001B[34mData Columns with Null Values:\u001B[1m\u001B[34m\n",
      "- All Data -> \u001B[1m\u001B[31m6\n",
      "\n"
     ]
    }
   ],
   "execution_count": 21
  },
  {
   "metadata": {},
   "cell_type": "markdown",
   "source": "### Null Values",
   "id": "f4fbcd0bc2ebf29f"
  },
  {
   "metadata": {
    "ExecuteTime": {
     "end_time": "2024-11-01T14:10:00.955313Z",
     "start_time": "2024-11-01T14:09:59.755010Z"
    }
   },
   "cell_type": "code",
   "source": [
    "# Create figure\n",
    "figure = plt.figure(tight_layout=True, figsize=(12, 9))\n",
    "\n",
    "# Define figure's subplots\n",
    "grid_spec = GridSpec(1, 1)\n",
    "\n",
    "# Plot data\n",
    "ax = figure.add_subplot(grid_spec[0, 0])\n",
    "\n",
    "sns.histplot(data=relevant_users.isna().melt(var_name='Feature', value_name='Missing'), \n",
    "             y='Feature', \n",
    "             hue='Missing', \n",
    "             multiple='fill',\n",
    "             ax=ax)\n",
    "\n",
    "# Refactor x label as missing percentage\n",
    "ax.xaxis.set_major_locator(ticker.LinearLocator(21))\n",
    "ax.xaxis.set_major_formatter('{:.0%}'.format)\n",
    "\n",
    "# Set title and label\n",
    "ax.set_title('Relevant Users Null Values', fontsize=15)\n",
    "ax.set_xlabel('Null Percentage')\n",
    "\n",
    "plt.show()"
   ],
   "id": "38dab8e5352fca42",
   "outputs": [
    {
     "data": {
      "text/plain": [
       "<Figure size 1200x900 with 1 Axes>"
      ],
      "image/png": "[encoded data removed]"
     },
     "metadata": {},
     "output_type": "display_data"
    }
   ],
   "execution_count": 28
  },
  {
   "metadata": {},
   "cell_type": "code",
   "outputs": [],
   "execution_count": null,
   "source": "",
   "id": "bfa040678f14e976"
  }
 ],
 "metadata": {
  "kernelspec": {
   "display_name": "druidicgroveai",
   "language": "python",
   "name": "druidicgroveai"
  },
  "language_info": {
   "codemirror_mode": {
    "name": "ipython",
    "version": 2
   },
   "file_extension": ".py",
   "mimetype": "text/x-python",
   "name": "python",
   "nbconvert_exporter": "python",
   "pygments_lexer": "ipython2",
   "version": "2.7.6"
  }
 },
 "nbformat": 4,
 "nbformat_minor": 5
}
